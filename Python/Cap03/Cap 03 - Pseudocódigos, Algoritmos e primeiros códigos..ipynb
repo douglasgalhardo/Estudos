{
 "cells": [
  {
   "cell_type": "markdown",
   "id": "52dbdf8d",
   "metadata": {},
   "source": [
    "# O que é Pseudocódigo?\n",
    "\n",
    "O pseudocódigo é uma forma de representar algoritmos de maneira simplificada e legível, utilizando uma linguagem natural estruturada que se assemelha a uma linguagem de programação, mas sem a rigidez de suas sintaxes. O termo **\"pseudo\"** indica que não se trata de um código real que pode ser executado por um computador, mas sim de um rascunho ou um esboço do programa.\n",
    "\n",
    "Essencialmente, o pseudocódigo atua como uma **ponte entre a linguagem humana e a linguagem de programação**. Ele permite que programadores e desenvolvedores planejem e descrevam a lógica de um algoritmo de forma clara e concisa antes de se aprofundarem na escrita do código em uma linguagem específica como Python, Java ou C++.\n",
    "\n",
    "---\n",
    "\n",
    "## Principais Características do Pseudocódigo\n",
    "\n",
    "- **Flexibilidade**: Não há uma sintaxe estrita e universal para o pseudocódigo. Cada programador pode adaptar a escrita de acordo com sua preferência, desde que a lógica seja clara e compreensível.\n",
    "- **Linguagem Natural**: Utiliza palavras do dia a dia (como `leia`, `escreva`, `se`, `então`, `enquanto`) para descrever as ações, o que facilita o entendimento por pessoas com pouca ou nenhuma familiaridade com programação.\n",
    "- **Foco na Lógica**: O principal objetivo é detalhar os passos e as decisões de um algoritmo, sem a preocupação com detalhes de implementação, como a declaração de tipos de variáveis ou o uso de ponto e vírgula.\n",
    "- **Independência de Linguagem**: Por não seguir as regras de uma linguagem de programação específica, o algoritmo em pseudocódigo pode ser facilmente traduzido para diversas linguagens.\n",
    "\n",
    "---\n",
    "\n",
    "## Vantagens de Utilizar Pseudocódigo\n",
    "\n",
    "O uso de pseudocódigo é uma prática altamente recomendada, especialmente para iniciantes em programação e para o desenvolvimento de algoritmos complexos. As principais vantagens incluem:\n",
    "\n",
    "- **Facilita o planejamento**: Ajuda a organizar as ideias e a estruturar a lógica do programa antes da codificação.\n",
    "- **Melhora a comunicação**: Serve como uma ferramenta de comunicação eficaz entre os membros de uma equipe de desenvolvimento, garantindo que todos entendam a lógica do algoritmo.\n",
    "- **Reduz a ocorrência de erros**: Ao planejar a lógica previamente, é mais fácil identificar e corrigir falhas conceituais antes que se tornem bugs no código final.\n",
    "- **Agiliza a codificação**: Com um roteiro claro em pseudocódigo, o processo de escrita do código em uma linguagem de programação se torna mais rápido e direto.\n",
    "\n",
    "---\n",
    "\n",
    "## Exemplo de Pseudocódigo\n",
    "\n",
    "Vamos imaginar um algoritmo simples que solicita ao usuário dois números, calcula a soma e exibe o resultado.\n",
    "\n",
    "Em pseudocódigo, poderia ser escrito da seguinte forma:\n",
    "\n",
    "algoritmo \"SomaDoisNumeros\"\n",
    "var\n",
    "  numero1, numero2, soma: inteiro\n",
    "\n",
    "inicio\n",
    "  escreva(\"Digite o primeiro número: \")\n",
    "  leia(numero1)\n",
    "\n",
    "  escreva(\"Digite o segundo número: \")\n",
    "  leia(numero2)\n",
    "\n",
    "  soma <- numero1 + numero2\n",
    "\n",
    "  escreva(\"A soma dos dois números é: \", soma)\n",
    "fimalgoritmo"
   ]
  },
  {
   "cell_type": "markdown",
   "id": "276268cc",
   "metadata": {},
   "source": [
    "## O que é um Pseudocódigo?\n",
    "\n",
    "**Pseudocódigo** é uma forma de descrever a lógica de um algoritmo ou programa de computador de uma maneira que seja fácil de ler e entender por seres humanos. A palavra \"*pseudo*\" significa \"falso\", então \"pseudocódigo\" pode ser traduzido literalmente como \"código falso\".\n",
    "\n",
    "Ele não é uma linguagem de programação real (como Python, Java ou C++), mas sim uma representação intermediária que fica entre a linguagem natural (como o português) e uma linguagem de programação formal.\n",
    "\n",
    "> Pense nele como uma **receita de bolo** ou a **planta baixa de um arquiteto**. A receita descreve os passos para fazer um bolo sem usar a linguagem técnica de um chef profissional, e a planta baixa mostra o design de uma casa antes que qualquer tijolo seja assentado. Da mesma forma, o pseudocódigo descreve os passos de um programa antes que o código real seja escrito.\n",
    "\n",
    "-----\n",
    "\n",
    "### Características Principais\n",
    "\n",
    "  * **Linguagem Natural Estruturada:** Utiliza palavras do nosso idioma (como `Leia`, `Escreva`, `Se`, `Então`, `Enquanto`, `Faça`) de forma organizada e estruturada para representar a lógica.\n",
    "  * **Independente de Linguagem de Programação:** Como não segue as regras rígidas (sintaxe) de uma linguagem específica, um pseudocódigo pode ser facilmente traduzido para qualquer linguagem de programação. O foco está na **lógica** e não na sintaxe.\n",
    "  * **Estruturado e Legível:** Ajuda o programador a organizar as ideias e o fluxo do programa, tornando o processo de desenvolvimento mais claro e menos propenso a erros de lógica.\n",
    "  * **Não Executável:** Um computador não consegue executar um pseudocódigo diretamente. Ele serve apenas como uma ferramenta de planejamento e documentação.\n",
    "\n",
    "-----\n",
    "\n",
    "### Principais Vantagens e Objetivos\n",
    "\n",
    "  * **Planejamento:** É a melhor ferramenta para planejar um algoritmo. Ajuda a pensar nos passos necessários para resolver um problema antes de se preocupar com os detalhes técnicos de uma linguagem de programação.\n",
    "  * **Facilita a Codificação:** Com um pseudocódigo bem escrito, o trabalho de traduzi-lo para uma linguagem de programação real (como Python, Java, etc.) se torna muito mais rápido e simples.\n",
    "  * **Detecção de Erros:** É mais fácil encontrar erros de lógica no pseudocódigo do que em um código-fonte complexo. Corrigir um erro no papel é sempre mais fácil do que corrigi-lo no software.\n",
    "  * **Documentação e Colaboração:** Serve como uma excelente documentação de como um programa funciona. Em equipes, permite que diferentes programadores entendam a lógica uns dos outros rapidamente, mesmo que programem em linguagens diferentes.\n",
    "\n",
    "-----\n",
    "\n",
    "### Exemplo Prático\n",
    "\n",
    "Vamos criar um pseudocódigo para um programa que pede a idade do usuário e informa se ele é maior ou menor de idade.\n",
    "\n",
    "```\n",
    "Início\n",
    "    // Declaração da variável que guardará a idade\n",
    "    Declare idade Como Inteiro\n",
    "\n",
    "    // Pede a informação ao usuário\n",
    "    Escreva \"Por favor, digite a sua idade:\"\n",
    "\n",
    "    // Lê o valor digitado e armazena na variável 'idade'\n",
    "    Leia idade\n",
    "\n",
    "    // Verifica a condição\n",
    "    Se idade >= 18 Então\n",
    "        // Se a condição for verdadeira, executa este bloco\n",
    "        Escreva \"Você é maior de idade.\"\n",
    "    Senão\n",
    "        // Se a condição for falsa, executa este outro bloco\n",
    "        Escreva \"Você é menor de idade.\"\n",
    "    Fim Se\n",
    "\n",
    "Fim\n",
    "```\n",
    "\n",
    "**Análise do exemplo:**\n",
    "\n",
    "  * **`Início` / `Fim`:** Marcam o começo e o fim do algoritmo.\n",
    "  * **`Declare idade Como Inteiro`:** Cria um espaço na memória (uma variável) para guardar um número inteiro.\n",
    "  * **`Escreva`:** Mostra uma mensagem na tela para o usuário.\n",
    "  * **`Leia`:** Captura o que o usuário digita e salva na variável `idade`.\n",
    "  * **`Se ... Então ... Senão ... Fim Se`:** É a estrutura de decisão. Ela verifica se a `idade` é maior ou igual a 18 e executa um dos dois blocos de código com base no resultado dessa verificação.\n",
    "\n",
    "Em resumo, o **pseudocódigo é a ponte entre a ideia de como resolver um problema e a implementação dessa solução em um código funcional.** É uma ferramenta essencial para o aprendizado de programação e para o desenvolvimento de software de qualidade.\n",
    "\n",
    "## Pseudocódigo para Calcular a Área de um Paralelogramo\n",
    "\n",
    "Para calcular a área de um paralelogramo, é necessário multiplicar a medida de sua base pela sua altura. A fórmula matemática é simples: `Área = base × altura`.\n",
    "\n",
    "A seguir, apresentamos um pseudocódigo que descreve o processo para realizar este cálculo.\n",
    "\n",
    "### Pseudocódigo\n",
    "\n",
    "```\n",
    "Início\n",
    "    // Seção de Declaração de Variáveis\n",
    "    Declare base Como Número\n",
    "    Declare altura Como Número\n",
    "    Declare area Como Número\n",
    "\n",
    "    // Seção de Entrada de Dados\n",
    "    Escreva \"Por favor, insira o comprimento da base do paralelogramo:\"\n",
    "    Leia base\n",
    "\n",
    "    Escreva \"Agora, insira a altura do paralelogramo:\"\n",
    "    Leia altura\n",
    "\n",
    "    // Seção de Processamento\n",
    "    area = base * altura\n",
    "\n",
    "    // Seção de Saída de Dados\n",
    "    Escreva \"A área do paralelogramo é: \", area\n",
    "Fim\n",
    "```\n",
    "\n",
    "### Detalhamento do Pseudocódigo\n",
    "\n",
    "  * **Início e Fim:** Delimitam o começo e o término do algoritmo.\n",
    "  * **Declaração de Variáveis:**\n",
    "      * `base`: Armazenará o valor do comprimento da base do paralelogramo.\n",
    "      * `altura`: Armazenará o valor da altura do paralelogramo.\n",
    "      * `area`: Armazenará o resultado do cálculo da área.\n",
    "  * **Entrada de Dados:**\n",
    "      * O programa solicita ao usuário que insira os valores da base e da altura.\n",
    "      * Os comandos `Leia` capturam os valores digitados pelo usuário e os armazenam nas variáveis correspondentes.\n",
    "  * **Processamento:**\n",
    "      * A linha `area = base * altura` realiza a multiplicação da base pela altura, e o resultado é guardado na variável `area`.\n",
    "  * **Saída de Dados:**\n",
    "      * O comando `Escreva` exibe o resultado final para o usuário, apresentando o valor calculado da área do paralelogramo."
   ]
  },
  {
   "cell_type": "markdown",
   "id": "44b21087",
   "metadata": {},
   "source": [
    "# Pseudocódigo 1 - Calcular a Área de Um Paralelogramo\n",
    "\n",
    "**Nota:** Um paralelogramo é um quadrilátero com lados opostos paralelos (e portanto ângulos opostos iguais).  \n",
    "Um quadrilátero com lados iguais é chamado de losango e um paralelogramo cujos ângulos são todos ângulos retos é chamado de retângulo.\n",
    "\n",
    "---\n",
    "\n",
    "###### Início\n",
    "\n",
    "    Exiba \"Bem-vindo ao Calculador de Área de Paralelogramo\"\n",
    "    Peça para o usuário inserir o comprimento da base\n",
    "    Armazene o comprimento da base em uma variável\n",
    "    Peça para o usuário inserir a altura\n",
    "    Armazene a altura em uma variável\n",
    "    Calcule a área do paralelogramo: base * altura\n",
    "    Armazene o resultado em uma variável\n",
    "    Exiba o resultado\n",
    "\n",
    "###### Fim"
   ]
  },
  {
   "cell_type": "code",
   "execution_count": 1,
   "id": "e9ad30dc",
   "metadata": {},
   "outputs": [
    {
     "name": "stdout",
     "output_type": "stream",
     "text": [
      "Bem-vindo ao Calculador de Área de Paralelogramo\n"
     ]
    }
   ],
   "source": [
    "print(\"Bem-vindo ao Calculador de Área de Paralelogramo\")"
   ]
  },
  {
   "cell_type": "code",
   "execution_count": 2,
   "id": "9e26d1c2",
   "metadata": {},
   "outputs": [
    {
     "name": "stdout",
     "output_type": "stream",
     "text": [
      "Insira o comprimento da base: 100\n"
     ]
    }
   ],
   "source": [
    "base = float(input(\"Insira o comprimento da base: \"))"
   ]
  },
  {
   "cell_type": "code",
   "execution_count": 3,
   "id": "01726966",
   "metadata": {},
   "outputs": [
    {
     "name": "stdout",
     "output_type": "stream",
     "text": [
      "Insira a altura: 100\n"
     ]
    }
   ],
   "source": [
    "altura = float(input(\"Insira a altura: \"))"
   ]
  },
  {
   "cell_type": "code",
   "execution_count": 4,
   "id": "607cc6f5",
   "metadata": {},
   "outputs": [],
   "source": [
    "area = base * altura"
   ]
  },
  {
   "cell_type": "code",
   "execution_count": 5,
   "id": "0e4a874b",
   "metadata": {},
   "outputs": [
    {
     "name": "stdout",
     "output_type": "stream",
     "text": [
      "A área do parelogramo é,  10000.0\n"
     ]
    }
   ],
   "source": [
    "print('A área do parelogramo é, ', area)"
   ]
  },
  {
   "cell_type": "markdown",
   "id": "206237eb",
   "metadata": {},
   "source": [
    "# Pseudocódigo 2 - Calculadora Simples\n",
    "\n",
    "## Início\n",
    "- Exiba \"Bem-vindo à Calculadora\"\n",
    "- Peça para o usuário inserir o primeiro número\n",
    "- Armazene o primeiro número em uma variável\n",
    "- Peça para o usuário inserir o segundo número\n",
    "- Armazene o segundo número em uma variável\n",
    "- Peça para o usuário selecionar uma operação (+, -, *, /)\n",
    "- Armazene a operação em uma variável\n",
    "- Utilize a operação selecionada e os números armazenados para realizar o cálculo\n",
    "- Exiba o resultado\n",
    "\n",
    "## Fim\n"
   ]
  },
  {
   "cell_type": "code",
   "execution_count": 12,
   "id": "064904c1",
   "metadata": {},
   "outputs": [
    {
     "name": "stdout",
     "output_type": "stream",
     "text": [
      "Bem-vindo à Calculadora\n"
     ]
    }
   ],
   "source": [
    "print('Bem-vindo à Calculadora')"
   ]
  },
  {
   "cell_type": "code",
   "execution_count": 13,
   "id": "67df88c5",
   "metadata": {},
   "outputs": [
    {
     "name": "stdout",
     "output_type": "stream",
     "text": [
      "Insira o primeiro valor: 6\n"
     ]
    }
   ],
   "source": [
    "n1 = float(input(\"Insira o primeiro valor: \"))"
   ]
  },
  {
   "cell_type": "code",
   "execution_count": 38,
   "id": "66138bec",
   "metadata": {},
   "outputs": [
    {
     "name": "stdout",
     "output_type": "stream",
     "text": [
      "Insira o segundo valor: 3\n"
     ]
    }
   ],
   "source": [
    "n2 = float(input(\"Insira o segundo valor: \"))"
   ]
  },
  {
   "cell_type": "code",
   "execution_count": 28,
   "id": "e0998b69",
   "metadata": {},
   "outputs": [
    {
     "name": "stdout",
     "output_type": "stream",
     "text": [
      "Qual operação que deseja fazer? \n",
      " soma [+] \n",
      " subtração [-] \n",
      " multiplicação [*] \n",
      " divisão [/] \n",
      " INSIRA O SIMBOLO: /\n"
     ]
    }
   ],
   "source": [
    "operacao = input(\"Qual operação que deseja fazer? \\n soma [+] \\n subtração [-] \\n multiplicação [*] \\n divisão [/] \\n INSIRA O SIMBOLO: \")"
   ]
  },
  {
   "cell_type": "code",
   "execution_count": 39,
   "id": "ae9c1e60",
   "metadata": {},
   "outputs": [
    {
     "name": "stdout",
     "output_type": "stream",
     "text": [
      "A divisão é:  2.0\n"
     ]
    }
   ],
   "source": [
    "if operacao == \"+\":\n",
    "    conta = n1 + n2\n",
    "    print('A soma é: ',conta)\n",
    "    \n",
    "elif operacao == \"-\":\n",
    "    conta = n1 - n2\n",
    "    print('A subtração é: ',conta)\n",
    "    \n",
    "elif operacao == \"*\":\n",
    "    conta = n1 + n2\n",
    "    print('A multiplicação é: ',conta)\n",
    "    \n",
    "elif operacao == \"/\" and n2 == 0:\n",
    "    print(\"Operação inválida, não há divisão por zero, mude a operação ou o segundo número.\")\n",
    "    \n",
    "elif operacao == \"/\":\n",
    "    conta = n1 / n2\n",
    "    print('A divisão é: ',conta)\n",
    "else:\n",
    "    print('Operação inválida')"
   ]
  },
  {
   "cell_type": "markdown",
   "id": "2413c091",
   "metadata": {},
   "source": [
    "# Pseudocódigo 3 - Algoritmo Bubble Sort\n",
    "\n",
    "Bubble Sort é um algoritmo de ordenação simples que funciona comparando cada elemento com o próximo, e trocando-os de lugar se eles estiverem em ordem incorreta. O algoritmo repete esse processo várias vezes, até que todos os elementos estejam ordenados. A cada passagem, o maior elemento \"flutua\" para o final do array, como uma bolha, dando origem ao nome do algoritmo.\n",
    "\n",
    "---"
   ]
  },
  {
   "cell_type": "markdown",
   "id": "16d8fba2",
   "metadata": {},
   "source": [
    "## Resposta:\n",
    "\n",
    "## Início\n",
    "\n",
    "- Exiba \"Bem-vindo ao Bubble Sort\"\n",
    "- Peça para o usuário inserir uma lista de números separados por vírgula\n",
    "- Armazene a lista em uma variável chamada `lista`\n",
    "- Obtenha o tamanho da lista e armazene em `n`\n",
    "\n",
    "- Para `i` de 0 até `n - 1` faça:\n",
    "    - Para `j` de 0 até `n - i - 2` faça:\n",
    "        - Se `lista[j]` > `lista[j + 1]` então:\n",
    "            - Troque `lista[j]` com `lista[j + 1]`\n",
    "\n",
    "- Exiba a lista ordenada\n",
    "\n",
    "## Fim\n",
    "\n"
   ]
  },
  {
   "cell_type": "code",
   "execution_count": 48,
   "id": "0442daf0",
   "metadata": {},
   "outputs": [
    {
     "name": "stdout",
     "output_type": "stream",
     "text": [
      "Bem-vindo ao Bubble Sort\n"
     ]
    }
   ],
   "source": [
    "print(\"Bem-vindo ao Bubble Sort\")"
   ]
  },
  {
   "cell_type": "code",
   "execution_count": 49,
   "id": "99563d22",
   "metadata": {},
   "outputs": [
    {
     "name": "stdout",
     "output_type": "stream",
     "text": [
      "Digite os números separados por vírgula: 1,4,5,6,7,34,2,5,7,87,3,2,2,4,5,56,78,5,3,3,5,9\n"
     ]
    }
   ],
   "source": [
    "entrada = input(\"Digite os números separados por vírgula: \")"
   ]
  },
  {
   "cell_type": "code",
   "execution_count": 50,
   "id": "2fea0387",
   "metadata": {},
   "outputs": [],
   "source": [
    "lista = [int(num.strip()) for num in entrada.split(',')]"
   ]
  },
  {
   "cell_type": "code",
   "execution_count": 51,
   "id": "40e9cebc",
   "metadata": {},
   "outputs": [],
   "source": [
    "n = len(lista)"
   ]
  },
  {
   "cell_type": "code",
   "execution_count": 52,
   "id": "3ea7a7f2",
   "metadata": {},
   "outputs": [],
   "source": [
    "for i in range(n):\n",
    "    for j in range(0, n - i - 1):\n",
    "        # Compara elementos adjacentes\n",
    "        if lista[j] > lista[j + 1]:\n",
    "            # Troca os elementos se estiverem fora de ordem\n",
    "            lista[j], lista[j + 1] = lista[j + 1], lista[j]"
   ]
  },
  {
   "cell_type": "code",
   "execution_count": 53,
   "id": "b4af4ef6",
   "metadata": {},
   "outputs": [
    {
     "name": "stdout",
     "output_type": "stream",
     "text": [
      "Lista ordenada: [1, 2, 2, 2, 3, 3, 3, 4, 4, 5, 5, 5, 5, 5, 6, 7, 7, 9, 34, 56, 78, 87]\n"
     ]
    }
   ],
   "source": [
    "print(\"Lista ordenada:\", lista)"
   ]
  },
  {
   "cell_type": "markdown",
   "id": "af91bbe7",
   "metadata": {},
   "source": [
    "---\n",
    "## Resposta DSA:\n"
   ]
  },
  {
   "cell_type": "code",
   "execution_count": 54,
   "id": "c514ffa0",
   "metadata": {},
   "outputs": [],
   "source": [
    "lista = [6, 7, 8, 3, 10, 19, 4, 1, 0, 61, 30, 16, 17, 82, 29, 34, 43, 21, 11, 39, 56, 67, 12]"
   ]
  },
  {
   "cell_type": "code",
   "execution_count": 55,
   "id": "b0e6ce31",
   "metadata": {},
   "outputs": [],
   "source": [
    "def bubble_sort(arr):\n",
    "    n = len(arr)\n",
    "\n",
    "    # Para cada passada no array\n",
    "    for i in range(n):\n",
    "        # Comparações até o penúltimo elemento não ordenado\n",
    "        for j in range(0, n - i - 1):\n",
    "            # Se o elemento atual for maior que o próximo, troque\n",
    "            if arr[j] > arr[j + 1]:\n",
    "                arr[j], arr[j + 1] = arr[j + 1], arr[j]\n",
    "    \n",
    "    return arr"
   ]
  },
  {
   "cell_type": "code",
   "execution_count": 56,
   "id": "ea2146b6",
   "metadata": {},
   "outputs": [
    {
     "name": "stdout",
     "output_type": "stream",
     "text": [
      "[0, 1, 3, 4, 6, 7, 8, 10, 11, 12, 16, 17, 19, 21, 29, 30, 34, 39, 43, 56, 61, 67, 82]\n"
     ]
    }
   ],
   "source": [
    "print(bubble_sort(lista))"
   ]
  },
  {
   "cell_type": "markdown",
   "id": "150a95e4",
   "metadata": {},
   "source": [
    "---"
   ]
  },
  {
   "cell_type": "code",
   "execution_count": null,
   "id": "1c074c72",
   "metadata": {},
   "outputs": [],
   "source": []
  }
 ],
 "metadata": {
  "kernelspec": {
   "display_name": "Python 3 (ipykernel)",
   "language": "python",
   "name": "python3"
  },
  "language_info": {
   "codemirror_mode": {
    "name": "ipython",
    "version": 3
   },
   "file_extension": ".py",
   "mimetype": "text/x-python",
   "name": "python",
   "nbconvert_exporter": "python",
   "pygments_lexer": "ipython3",
   "version": "3.9.13"
  }
 },
 "nbformat": 4,
 "nbformat_minor": 5
}
