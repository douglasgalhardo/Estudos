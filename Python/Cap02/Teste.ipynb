{
 "cells": [
  {
   "cell_type": "code",
   "execution_count": 1,
   "id": "707eac09",
   "metadata": {},
   "outputs": [
    {
     "data": {
      "text/plain": [
       "4"
      ]
     },
     "execution_count": 1,
     "metadata": {},
     "output_type": "execute_result"
    }
   ],
   "source": [
    "2+2"
   ]
  },
  {
   "cell_type": "code",
   "execution_count": 2,
   "id": "b50a6754",
   "metadata": {},
   "outputs": [
    {
     "name": "stdout",
     "output_type": "stream",
     "text": [
      "Olá Mundo\n"
     ]
    }
   ],
   "source": [
    "print('Olá Mundo')"
   ]
  },
  {
   "cell_type": "code",
   "execution_count": 2,
   "id": "cabdefa6",
   "metadata": {
    "scrolled": true
   },
   "outputs": [
    {
     "name": "stdout",
     "output_type": "stream",
     "text": [
      "Qual o seu nome? dg\n",
      "dg\n"
     ]
    }
   ],
   "source": [
    "nome = input('Qual o seu nome? ')\n",
    "print(nome)"
   ]
  },
  {
   "cell_type": "markdown",
   "id": "3723b501",
   "metadata": {},
   "source": [
    "Gere código Python que crie uma lista com os números entre 1 e 100 e então imprima os números pares, mas somente se o número for díviveis por 4:"
   ]
  },
  {
   "cell_type": "code",
   "execution_count": 3,
   "id": "f6345dda",
   "metadata": {},
   "outputs": [
    {
     "name": "stdout",
     "output_type": "stream",
     "text": [
      "4\n",
      "8\n",
      "12\n",
      "16\n",
      "20\n",
      "24\n",
      "28\n",
      "32\n",
      "36\n",
      "40\n",
      "44\n",
      "48\n",
      "52\n",
      "56\n",
      "60\n",
      "64\n",
      "68\n",
      "72\n",
      "76\n",
      "80\n",
      "84\n",
      "88\n",
      "92\n",
      "96\n",
      "100\n"
     ]
    }
   ],
   "source": [
    "# Cria uma lista com os números de 1 a 100\n",
    "numeros = list(range(1, 101))\n",
    "\n",
    "# Itera sobre a lista e imprime apenas os números pares divisíveis por 4\n",
    "for numero in numeros:\n",
    "    if numero % 4 == 0:\n",
    "        print(numero)\n"
   ]
  },
  {
   "cell_type": "markdown",
   "id": "02169e90",
   "metadata": {},
   "source": [
    "Gere código Python que crie uma lista com os números entre 1 e 100 e então imprima os números pares, mas somente se o número for díviveis por 4, usando list comprehension:"
   ]
  },
  {
   "cell_type": "code",
   "execution_count": 9,
   "id": "4187c73a",
   "metadata": {},
   "outputs": [
    {
     "name": "stdout",
     "output_type": "stream",
     "text": [
      "4\n",
      "8\n",
      "12\n",
      "16\n",
      "20\n",
      "24\n",
      "28\n",
      "32\n",
      "36\n",
      "40\n",
      "44\n",
      "48\n",
      "52\n",
      "56\n",
      "60\n",
      "64\n",
      "68\n",
      "72\n",
      "76\n",
      "80\n",
      "84\n",
      "88\n",
      "92\n",
      "96\n",
      "100\n"
     ]
    },
    {
     "data": {
      "text/plain": [
       "list"
      ]
     },
     "execution_count": 9,
     "metadata": {},
     "output_type": "execute_result"
    }
   ],
   "source": [
    "numeros_divisiveis_por_4 = [n for n in range(1, 101) if n % 4 == 0]\n",
    "\n",
    "for numero in numeros_divisiveis_por_4:\n",
    "    print(numero)\n",
    "type(numeros_divisiveis_por_4)"
   ]
  },
  {
   "cell_type": "code",
   "execution_count": 11,
   "id": "8a23a75d",
   "metadata": {},
   "outputs": [
    {
     "name": "stdout",
     "output_type": "stream",
     "text": [
      "[4, 8, 12, 16, 20, 24, 28, 32, 36, 40, 44, 48, 52, 56, 60, 64, 68, 72, 76, 80, 84, 88, 92, 96, 100]\n"
     ]
    }
   ],
   "source": [
    "numeros = list(range(1,101))\n",
    "\n",
    "pares_div4 = [numero for numero in numeros if numero % 4 == 0]\n",
    "print(pares_div4)"
   ]
  },
  {
   "cell_type": "markdown",
   "id": "6e043c70",
   "metadata": {},
   "source": [
    "##### FIM"
   ]
  },
  {
   "cell_type": "code",
   "execution_count": null,
   "id": "10fc709e",
   "metadata": {},
   "outputs": [],
   "source": []
  }
 ],
 "metadata": {
  "kernelspec": {
   "display_name": "Python 3 (ipykernel)",
   "language": "python",
   "name": "python3"
  },
  "language_info": {
   "codemirror_mode": {
    "name": "ipython",
    "version": 3
   },
   "file_extension": ".py",
   "mimetype": "text/x-python",
   "name": "python",
   "nbconvert_exporter": "python",
   "pygments_lexer": "ipython3",
   "version": "3.9.13"
  }
 },
 "nbformat": 4,
 "nbformat_minor": 5
}
